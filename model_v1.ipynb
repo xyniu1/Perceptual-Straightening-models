{
 "cells": [
  {
   "cell_type": "code",
   "execution_count": 1,
   "id": "4d88a025",
   "metadata": {},
   "outputs": [],
   "source": [
    "import torch\n",
    "import torch.nn as nn\n",
    "\n",
    "import models.steerable.steerableUtils as utils\n",
    "from models.steerable.config import device, dtype"
   ]
  },
  {
   "cell_type": "code",
   "execution_count": 2,
   "id": "0c4f6f6a",
   "metadata": {},
   "outputs": [],
   "source": [
    "imgSize = 256\n",
    "size = [ imgSize, imgSize//2 + 1 ]"
   ]
  },
  {
   "cell_type": "code",
   "execution_count": 5,
   "id": "2622851e",
   "metadata": {},
   "outputs": [
    {
     "name": "stdout",
     "output_type": "stream",
     "text": [
      "torch.Size([2, 256, 129])\n"
     ]
    }
   ],
   "source": [
    "hl0 = utils.HL0_matrix( size )\n",
    "print(hl0.size())"
   ]
  },
  {
   "cell_type": "code",
   "execution_count": 6,
   "id": "57786cba",
   "metadata": {},
   "outputs": [
    {
     "name": "stdout",
     "output_type": "stream",
     "text": [
      "[tensor([129, 130, 131, 132, 133, 134, 135, 136, 137, 138, 139, 140, 141, 142,\n",
      "        143, 144, 145, 146, 147, 148, 149, 150, 151, 152, 153, 154, 155, 156,\n",
      "        157, 158, 159, 160, 161, 162, 163, 164, 165, 166, 167, 168, 169, 170,\n",
      "        171, 172, 173, 174, 175, 176, 177, 178, 179, 180, 181, 182, 183, 184,\n",
      "        185, 186, 187, 188, 189, 190, 191, 192, 193, 194, 195, 196, 197, 198,\n",
      "        199, 200, 201, 202, 203, 204, 205, 206, 207, 208, 209, 210, 211, 212,\n",
      "        213, 214, 215, 216, 217, 218, 219, 220, 221, 222, 223, 224, 225, 226,\n",
      "        227, 228, 229, 230, 231, 232, 233, 234, 235, 236, 237, 238, 239, 240,\n",
      "        241, 242, 243, 244, 245, 246, 247, 248, 249, 250, 251, 252, 253, 254,\n",
      "        255,   0,   1,   2,   3,   4,   5,   6,   7,   8,   9,  10,  11,  12,\n",
      "         13,  14,  15,  16,  17,  18,  19,  20,  21,  22,  23,  24,  25,  26,\n",
      "         27,  28,  29,  30,  31,  32,  33,  34,  35,  36,  37,  38,  39,  40,\n",
      "         41,  42,  43,  44,  45,  46,  47,  48,  49,  50,  51,  52,  53,  54,\n",
      "         55,  56,  57,  58,  59,  60,  61,  62,  63,  64,  65,  66,  67,  68,\n",
      "         69,  70,  71,  72,  73,  74,  75,  76,  77,  78,  79,  80,  81,  82,\n",
      "         83,  84,  85,  86,  87,  88,  89,  90,  91,  92,  93,  94,  95,  96,\n",
      "         97,  98,  99, 100, 101, 102, 103, 104, 105, 106, 107, 108, 109, 110,\n",
      "        111, 112, 113, 114, 115, 116, 117, 118, 119, 120, 121, 122, 123, 124,\n",
      "        125, 126, 127, 128])] [tensor([127, 128, 129, 130, 131, 132, 133, 134, 135, 136, 137, 138, 139, 140,\n",
      "        141, 142, 143, 144, 145, 146, 147, 148, 149, 150, 151, 152, 153, 154,\n",
      "        155, 156, 157, 158, 159, 160, 161, 162, 163, 164, 165, 166, 167, 168,\n",
      "        169, 170, 171, 172, 173, 174, 175, 176, 177, 178, 179, 180, 181, 182,\n",
      "        183, 184, 185, 186, 187, 188, 189, 190, 191, 192, 193, 194, 195, 196,\n",
      "        197, 198, 199, 200, 201, 202, 203, 204, 205, 206, 207, 208, 209, 210,\n",
      "        211, 212, 213, 214, 215, 216, 217, 218, 219, 220, 221, 222, 223, 224,\n",
      "        225, 226, 227, 228, 229, 230, 231, 232, 233, 234, 235, 236, 237, 238,\n",
      "        239, 240, 241, 242, 243, 244, 245, 246, 247, 248, 249, 250, 251, 252,\n",
      "        253, 254, 255,   0,   1,   2,   3,   4,   5,   6,   7,   8,   9,  10,\n",
      "         11,  12,  13,  14,  15,  16,  17,  18,  19,  20,  21,  22,  23,  24,\n",
      "         25,  26,  27,  28,  29,  30,  31,  32,  33,  34,  35,  36,  37,  38,\n",
      "         39,  40,  41,  42,  43,  44,  45,  46,  47,  48,  49,  50,  51,  52,\n",
      "         53,  54,  55,  56,  57,  58,  59,  60,  61,  62,  63,  64,  65,  66,\n",
      "         67,  68,  69,  70,  71,  72,  73,  74,  75,  76,  77,  78,  79,  80,\n",
      "         81,  82,  83,  84,  85,  86,  87,  88,  89,  90,  91,  92,  93,  94,\n",
      "         95,  96,  97,  98,  99, 100, 101, 102, 103, 104, 105, 106, 107, 108,\n",
      "        109, 110, 111, 112, 113, 114, 115, 116, 117, 118, 119, 120, 121, 122,\n",
      "        123, 124, 125, 126])]\n"
     ]
    }
   ],
   "source": [
    "indF = [ utils.freq_shift( size[0], True  ) ]\n",
    "indB = [ utils.freq_shift( size[0], False ) ]\n",
    "print(indF, indB)"
   ]
  },
  {
   "cell_type": "code",
   "execution_count": 8,
   "id": "26d877b9",
   "metadata": {},
   "outputs": [
    {
     "name": "stdout",
     "output_type": "stream",
     "text": [
      "torch.Size([128, 65]) torch.Size([8, 256, 129]) torch.Size([8, 256, 129])\n",
      "torch.Size([64, 33]) torch.Size([8, 128, 65]) torch.Size([8, 128, 65])\n",
      "torch.Size([32, 17]) torch.Size([8, 64, 33]) torch.Size([8, 64, 33])\n",
      "torch.Size([16, 9]) torch.Size([8, 32, 17]) torch.Size([8, 32, 17])\n"
     ]
    }
   ],
   "source": [
    "N = 4\n",
    "K = 8\n",
    "\n",
    "l_list, b_list, s_list, indF_list, indB_list = [], [], [], [], []\n",
    "for n in range( N ):\n",
    "\n",
    "    l = utils.L_matrix_cropped( size )\n",
    "    b = utils.B_matrix(      K, size )\n",
    "    s = utils.S_matrix(      K, size )\n",
    "    print(l.size(), b.size(), s.size())\n",
    "\n",
    "    l_list.append( l.div_(4) )\n",
    "    b_list.append( b )\n",
    "    s_list.append( s )\n",
    "\n",
    "    size = [ l.size(-2), l.size(-1) ]\n",
    "\n",
    "    indF_list.append( utils.freq_shift( size[0], True  ) )\n",
    "    indB_list.append( utils.freq_shift( size[0], False ) )"
   ]
  },
  {
   "cell_type": "code",
   "execution_count": 11,
   "id": "1e2419a1",
   "metadata": {},
   "outputs": [
    {
     "name": "stdout",
     "output_type": "stream",
     "text": [
      "torch.Size([256, 129])\n"
     ]
    }
   ],
   "source": [
    "x = torch.normal(0, 1, size=(256, 256))\n",
    "f = torch.fft.rfft2(x)\n",
    "print(f.size())"
   ]
  },
  {
   "cell_type": "code",
   "execution_count": null,
   "id": "2843fa38",
   "metadata": {},
   "outputs": [],
   "source": [
    "h0f = hl0[0] * f\n",
    "l0f = hl0[1] * f\n",
    "lf = l0f\n",
    "\n",
    "output = []\n",
    "\n"
   ]
  }
 ],
 "metadata": {
  "kernelspec": {
   "display_name": "manifold",
   "language": "python",
   "name": "manifold"
  },
  "language_info": {
   "codemirror_mode": {
    "name": "ipython",
    "version": 3
   },
   "file_extension": ".py",
   "mimetype": "text/x-python",
   "name": "python",
   "nbconvert_exporter": "python",
   "pygments_lexer": "ipython3",
   "version": "3.9.7"
  }
 },
 "nbformat": 4,
 "nbformat_minor": 5
}
