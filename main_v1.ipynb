{
 "cells": [
  {
   "cell_type": "code",
   "execution_count": 1,
   "id": "06ee368a",
   "metadata": {},
   "outputs": [],
   "source": [
    "import os\n",
    "import numpy as np \n",
    "import utilities as utils \n",
    "import params \n",
    "# Being re-written --\n",
    "# from straightening_hierarchy import Straightening_Hierarchy\n",
    "# from models.steerable.config import device\n",
    "device = 'cpu'\n",
    "from torch.autograd import Variable"
   ]
  },
  {
   "cell_type": "code",
   "execution_count": 2,
   "id": "7b3d7a83",
   "metadata": {},
   "outputs": [],
   "source": [
    "# save results\n",
    "\n",
    "# savedir = 'results/'\n",
    "# savedir = '%s%s-N%d-K%d-S%d/' % (savedir, params.model_name, params.N, params.K, params.imgSize)\n",
    "# os.makedirs( savedir, exist_ok=True )"
   ]
  },
  {
   "cell_type": "code",
   "execution_count": 3,
   "id": "b9e317b6",
   "metadata": {},
   "outputs": [],
   "source": [
    "# sequenceTypes = ['groundtruth', 'pixelfade', 'contrast']\n",
    "sequenceTypes = ['groundtruth']\n",
    "modelStages = ['pixel', 'retina', 'v1']"
   ]
  },
  {
   "cell_type": "code",
   "execution_count": 4,
   "id": "c7f78deb",
   "metadata": {},
   "outputs": [],
   "source": [
    "import torch \n",
    "import torch.nn as nn\n",
    "import torch.nn.functional as F \n",
    "\n",
    "import sys \n",
    "import os\n",
    "\n",
    "from models.retinalDN.retinalDN import RetinalDN\n",
    "from models.steerable.steerable_Julie import SteerablePyramid\n",
    "\n",
    "class Straightening_Hierarchy(nn.Module):\n",
    "\n",
    "    def __init__( self, imgSize, N, K, remove=True, square=True ):\n",
    "        super(Straightening_Hierarchy, self).__init__()\n",
    "\n",
    "        self.retinalDN = RetinalDN() \n",
    "        self.pyr = SteerablePyramid( imgSize, K=K, N=N, hilb=True )\n",
    "        self.remove = remove\n",
    "        self.square = square\n",
    "\n",
    "\n",
    "    def compute_pyr(self, x):\n",
    "\n",
    "        x = self.pyr( x.unsqueeze(1) )\n",
    "        \n",
    "        if self.remove:\n",
    "            x.pop( 0 ) # remove high-pass\n",
    "            x.pop(   ) # remove low-pass\n",
    "\n",
    "        if self.square:\n",
    "            for i in range( len(x) ):\n",
    "                x[i] = ( x[i] ** 2 ).sum(1).select( 1, 0 ) # compute complex magnitude \n",
    "#                 x[i] = torch.sqrt(x[i])\n",
    "\n",
    "        for i in range( len(x) ):\n",
    "#             x[i] = x[i].view( x[i].size(0), -1 )\n",
    "            x[i] = torch.reshape(x[i], (x[i].size()[0], -1))\n",
    "                    \n",
    "        return torch.cat( tuple(x), -1 ) # concatenate all pyramid bands \n",
    "\n",
    "    def forward(self, x):\n",
    "\n",
    "        y = {}\n",
    "\n",
    "        y['pixel'] = x / 255 \n",
    "\n",
    "        y['retina'] = self.retinalDN( y['pixel'] )\n",
    "\n",
    "        y['v1'] = self.compute_pyr( y['retina'] )\n",
    "\n",
    "        return y"
   ]
  },
  {
   "cell_type": "code",
   "execution_count": 5,
   "id": "5757ef27",
   "metadata": {},
   "outputs": [],
   "source": [
    "models = [Straightening_Hierarchy(params.imgSize, N=params.N, K=params.K, remove=True, square=True),\n",
    "          Straightening_Hierarchy(params.imgSize, N=params.N, K=params.K, remove=True, square=False),\n",
    "          Straightening_Hierarchy(params.imgSize, N=params.N, K=params.K, remove=False, square=True),\n",
    "          Straightening_Hierarchy(params.imgSize, N=params.N, K=params.K, remove=False, square=False)]\n",
    "if device == 'cuda':\n",
    "\tmodel.cuda()"
   ]
  },
  {
   "cell_type": "code",
   "execution_count": 6,
   "id": "eb6459f7",
   "metadata": {},
   "outputs": [
    {
     "name": "stdout",
     "output_type": "stream",
     "text": [
      "Model 1: \n",
      "sequence type: groundtruth \tmodel stage: pixel \tdelta curvature 0.00\n",
      "sequence type: groundtruth \tmodel stage: retina \tdelta curvature -6.88\n",
      "sequence type: groundtruth \tmodel stage: v1 \tdelta curvature -21.56\n",
      "Model 2: \n",
      "sequence type: groundtruth \tmodel stage: pixel \tdelta curvature 0.00\n",
      "sequence type: groundtruth \tmodel stage: retina \tdelta curvature -6.88\n",
      "sequence type: groundtruth \tmodel stage: v1 \tdelta curvature -7.22\n",
      "Model 3: \n",
      "sequence type: groundtruth \tmodel stage: pixel \tdelta curvature 0.00\n",
      "sequence type: groundtruth \tmodel stage: retina \tdelta curvature -6.88\n",
      "sequence type: groundtruth \tmodel stage: v1 \tdelta curvature -33.32\n",
      "Model 4: \n",
      "sequence type: groundtruth \tmodel stage: pixel \tdelta curvature 0.00\n",
      "sequence type: groundtruth \tmodel stage: retina \tdelta curvature -6.88\n",
      "sequence type: groundtruth \tmodel stage: v1 \tdelta curvature -7.01\n"
     ]
    }
   ],
   "source": [
    "for s, sequenceType in enumerate(sequenceTypes):\n",
    "    \n",
    "    curvature = {}\n",
    "    for m, model in enumerate(models):\n",
    "        curvature[m] = {}\n",
    "        for modelStage in modelStages:\n",
    "            curvature[m][modelStage] = {} \n",
    "\n",
    "        if sequenceType == 'contrast':\n",
    "            imgNames = [ 'water-contrast0.5', 'prairieTer-contrastLog0.1', 'boats_contrastCocktail', 'bees_contrastCocktail', 'walking_contrastCocktail', 'egomotion_contrastCocktail', 'smile-contrastLog0.1', 'walking-contrast0.5', 'bees-contrast0.5', 'walking-contrastLog0.1' ]\n",
    "        else:\n",
    "            imgNames = [ 'water', 'prairieTer', 'boats', 'ice3', 'dogville', 'egomotion', 'walking', 'smile', 'bees', 'leaves-wind', 'carnegie-dam', 'chironomus' ]\n",
    "\n",
    "        for i, imgName in enumerate(imgNames):\n",
    "\n",
    "            if sequenceType == 'groundtruth':\n",
    "                x = utils.makeGroundtruth(imgName) \n",
    "            elif sequenceType == 'pixelfade':\n",
    "                x = utils.makePixelfade(imgName) \n",
    "            elif sequenceType == 'contrast':\n",
    "                x = utils.makeContrastfade(imgName) \n",
    "\n",
    "            if device == 'cuda':\n",
    "                x = x.cuda()\n",
    "            x = Variable( x ) \n",
    "            y = model( x )\n",
    "\n",
    "            for modelStage in modelStages:\n",
    "                dY, cY = utils.computeDistCurv( y[modelStage] )\n",
    "                curvature[m][modelStage][imgName] = cY.data.mean()\n",
    "                \n",
    "        print('Model %d: '%(m+1))\n",
    "        for o, modelStage in enumerate(modelStages):\t\n",
    "            avPixelCurvature = np.array(list(curvature[m]['pixel'].values())).mean()\n",
    "            avModelCurvature = np.array(list(curvature[m][modelStage].values())).mean()\n",
    "            deltaCurvature = avModelCurvature - avPixelCurvature\n",
    "            \n",
    "            print('sequence type: %s \\tmodel stage: %s \\tdelta curvature %.2f' % (sequenceType, modelStage, deltaCurvature))\n",
    "\n",
    "# \tnp.save( savedir + 'modelCurvature_' + sequenceType + '.npy', curvature )"
   ]
  },
  {
   "cell_type": "code",
   "execution_count": 7,
   "id": "b3f99115",
   "metadata": {},
   "outputs": [
    {
     "data": {
      "text/plain": [
       "([<matplotlib.axis.XTick at 0x152d6d854d00>,\n",
       "  <matplotlib.axis.XTick at 0x152d6d854cd0>,\n",
       "  <matplotlib.axis.XTick at 0x152d6d854b20>,\n",
       "  <matplotlib.axis.XTick at 0x152d6d7cd250>,\n",
       "  <matplotlib.axis.XTick at 0x152d6d7cd9a0>,\n",
       "  <matplotlib.axis.XTick at 0x152d6d7cda00>],\n",
       " [Text(0, 0, 'Pixel'),\n",
       "  Text(1, 0, 'LGN'),\n",
       "  Text(2, 0, 'V1-B^2'),\n",
       "  Text(3, 0, 'V1-B'),\n",
       "  Text(4, 0, 'V1-LBH^2'),\n",
       "  Text(5, 0, 'V1-LBH')])"
      ]
     },
     "execution_count": 7,
     "metadata": {},
     "output_type": "execute_result"
    },
    {
     "data": {
      "image/png": "[encoded data removed]",
      "text/plain": [
       "<Figure size 432x288 with 1 Axes>"
      ]
     },
     "metadata": {
      "needs_background": "light"
     },
     "output_type": "display_data"
    }
   ],
   "source": [
    "base = np.array(list(curvature[0]['pixel'].values())).mean()\n",
    "b = [0,\n",
    "    np.array(list(curvature[0]['retina'].values())).mean() - base]\n",
    "for i in range(len(models)):\n",
    "    b.append(np.array(list(curvature[i]['v1'].values())).mean() - base)\n",
    "c = [0, \n",
    "    np.array(list(curvature[0]['retina'].values())).std()]\n",
    "for i in range(len(models)):\n",
    "    c.append(np.array(list(curvature[i]['v1'].values())).std())\n",
    "a = np.arange(len(b))\n",
    "\n",
    "c = np.array(c) * 0.1\n",
    "\n",
    "import matplotlib.pyplot as plt\n",
    "plt.scatter(a, b, s=100, marker='o')\n",
    "plt.errorbar(a, b, yerr=c, fmt=\"o\")\n",
    "plt.xticks(a, ['Pixel', 'LGN', 'V1-B^2', 'V1-B', 'V1-LBH^2', 'V1-LBH'], fontsize=10)"
   ]
  },
  {
   "cell_type": "code",
   "execution_count": null,
   "id": "66900bd9",
   "metadata": {},
   "outputs": [],
   "source": []
  }
 ],
 "metadata": {
  "kernelspec": {
   "display_name": "manifold",
   "language": "python",
   "name": "manifold"
  },
  "language_info": {
   "codemirror_mode": {
    "name": "ipython",
    "version": 3
   },
   "file_extension": ".py",
   "mimetype": "text/x-python",
   "name": "python",
   "nbconvert_exporter": "python",
   "pygments_lexer": "ipython3",
   "version": "3.9.7"
  }
 },
 "nbformat": 4,
 "nbformat_minor": 5
}
