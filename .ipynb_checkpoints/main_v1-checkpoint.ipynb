{
 "cells": [
  {
   "cell_type": "code",
   "execution_count": 1,
   "id": "06ee368a",
   "metadata": {},
   "outputs": [],
   "source": [
    "import os\n",
    "import numpy as np \n",
    "import utilities as utils \n",
    "import params \n",
    "# Being re-written --\n",
    "# from straightening_hierarchy import Straightening_Hierarchy\n",
    "# from models.steerable.config import device\n",
    "device = 'cpu'\n",
    "from torch.autograd import Variable"
   ]
  },
  {
   "cell_type": "code",
   "execution_count": 2,
   "id": "7b3d7a83",
   "metadata": {},
   "outputs": [],
   "source": [
    "# save results\n",
    "\n",
    "# savedir = 'results/'\n",
    "# savedir = '%s%s-N%d-K%d-S%d/' % (savedir, params.model_name, params.N, params.K, params.imgSize)\n",
    "# os.makedirs( savedir, exist_ok=True )"
   ]
  },
  {
   "cell_type": "code",
   "execution_count": 3,
   "id": "b9e317b6",
   "metadata": {},
   "outputs": [],
   "source": [
    "# sequenceTypes = ['groundtruth', 'pixelfade', 'contrast']\n",
    "sequenceTypes = ['groundtruth']\n",
    "modelStages = ['pixel', 'retina', 'v1']"
   ]
  },
  {
   "cell_type": "code",
   "execution_count": 4,
   "id": "c7f78deb",
   "metadata": {},
   "outputs": [],
   "source": [
    "import torch \n",
    "import torch.nn as nn\n",
    "import torch.nn.functional as F \n",
    "\n",
    "import sys \n",
    "import os\n",
    "\n",
    "from models.retinalDN.retinalDN import RetinalDN\n",
    "from models.steerable.steerable_Julie import SteerablePyramid\n",
    "\n",
    "class Straightening_Hierarchy(nn.Module):\n",
    "\n",
    "    def __init__( self, imgSize, N, K, remove=True, square=True ):\n",
    "        super(Straightening_Hierarchy, self).__init__()\n",
    "\n",
    "        self.retinalDN = RetinalDN() \n",
    "        self.pyr = SteerablePyramid( imgSize, K=K, N=N, hilb=True )\n",
    "        self.remove = remove\n",
    "        self.square = square\n",
    "\n",
    "\n",
    "    def compute_pyr(self, x):\n",
    "\n",
    "        x = self.pyr( x.unsqueeze(1) )\n",
    "        \n",
    "        if self.remove:\n",
    "            x.pop( 0 ) # remove high-pass\n",
    "            x.pop(   ) # remove low-pass\n",
    "\n",
    "        if self.square:\n",
    "            for i in range( len(x) ):\n",
    "                x[i] = ( x[i] ** 2 ).sum(1).select( 1, 0 ) # compute complex magnitude \n",
    "#                 x[i] = torch.sqrt(x[i])\n",
    "\n",
    "        for i in range( len(x) ):\n",
    "#             x[i] = x[i].view( x[i].size(0), -1 )\n",
    "            x[i] = torch.reshape(x[i], (x[i].size()[0], -1))\n",
    "                    \n",
    "        return torch.cat( tuple(x), -1 ) # concatenate all pyramid bands \n",
    "\n",
    "    def forward(self, x):\n",
    "\n",
    "        y = {}\n",
    "\n",
    "        y['pixel'] = x / 255 \n",
    "\n",
    "        y['retina'] = self.retinalDN( y['pixel'] )\n",
    "\n",
    "        y['v1'] = self.compute_pyr( y['retina'] )\n",
    "\n",
    "        return y"
   ]
  },
  {
   "cell_type": "code",
   "execution_count": 5,
   "id": "5757ef27",
   "metadata": {},
   "outputs": [],
   "source": [
    "models = [Straightening_Hierarchy(params.imgSize, N=params.N, K=params.K, remove=True, square=True),\n",
    "          Straightening_Hierarchy(params.imgSize, N=params.N, K=params.K, remove=True, square=False),\n",
    "          Straightening_Hierarchy(params.imgSize, N=params.N, K=params.K, remove=False, square=True),\n",
    "          Straightening_Hierarchy(params.imgSize, N=params.N, K=params.K, remove=False, square=False)]\n",
    "if device == 'cuda':\n",
    "\tmodel.cuda()"
   ]
  },
  {
   "cell_type": "code",
   "execution_count": 6,
   "id": "eb6459f7",
   "metadata": {},
   "outputs": [
    {
     "ename": "RuntimeError",
     "evalue": "Expected all tensors to be on the same device, but found at least two devices, cpu and cuda:0! (when checking argument for argument index in method wrapper__index_select)",
     "output_type": "error",
     "traceback": [
      "\u001b[0;31m---------------------------------------------------------------------------\u001b[0m",
      "\u001b[0;31mRuntimeError\u001b[0m                              Traceback (most recent call last)",
      "\u001b[0;32m/state/partition1/job-14061320/ipykernel_1561528/1977163797.py\u001b[0m in \u001b[0;36m<module>\u001b[0;34m\u001b[0m\n\u001b[1;32m     24\u001b[0m                 \u001b[0mx\u001b[0m \u001b[0;34m=\u001b[0m \u001b[0mx\u001b[0m\u001b[0;34m.\u001b[0m\u001b[0mcuda\u001b[0m\u001b[0;34m(\u001b[0m\u001b[0;34m)\u001b[0m\u001b[0;34m\u001b[0m\u001b[0;34m\u001b[0m\u001b[0m\n\u001b[1;32m     25\u001b[0m             \u001b[0mx\u001b[0m \u001b[0;34m=\u001b[0m \u001b[0mVariable\u001b[0m\u001b[0;34m(\u001b[0m \u001b[0mx\u001b[0m \u001b[0;34m)\u001b[0m\u001b[0;34m\u001b[0m\u001b[0;34m\u001b[0m\u001b[0m\n\u001b[0;32m---> 26\u001b[0;31m             \u001b[0my\u001b[0m \u001b[0;34m=\u001b[0m \u001b[0mmodel\u001b[0m\u001b[0;34m(\u001b[0m \u001b[0mx\u001b[0m \u001b[0;34m)\u001b[0m\u001b[0;34m\u001b[0m\u001b[0;34m\u001b[0m\u001b[0m\n\u001b[0m\u001b[1;32m     27\u001b[0m \u001b[0;34m\u001b[0m\u001b[0m\n\u001b[1;32m     28\u001b[0m             \u001b[0;32mfor\u001b[0m \u001b[0mmodelStage\u001b[0m \u001b[0;32min\u001b[0m \u001b[0mmodelStages\u001b[0m\u001b[0;34m:\u001b[0m\u001b[0;34m\u001b[0m\u001b[0;34m\u001b[0m\u001b[0m\n",
      "\u001b[0;32m/scratch/xn314/anaconda3/envs/env_manifold/lib/python3.9/site-packages/torch/nn/modules/module.py\u001b[0m in \u001b[0;36m_call_impl\u001b[0;34m(self, *input, **kwargs)\u001b[0m\n\u001b[1;32m   1100\u001b[0m         if not (self._backward_hooks or self._forward_hooks or self._forward_pre_hooks or _global_backward_hooks\n\u001b[1;32m   1101\u001b[0m                 or _global_forward_hooks or _global_forward_pre_hooks):\n\u001b[0;32m-> 1102\u001b[0;31m             \u001b[0;32mreturn\u001b[0m \u001b[0mforward_call\u001b[0m\u001b[0;34m(\u001b[0m\u001b[0;34m*\u001b[0m\u001b[0minput\u001b[0m\u001b[0;34m,\u001b[0m \u001b[0;34m**\u001b[0m\u001b[0mkwargs\u001b[0m\u001b[0;34m)\u001b[0m\u001b[0;34m\u001b[0m\u001b[0;34m\u001b[0m\u001b[0m\n\u001b[0m\u001b[1;32m   1103\u001b[0m         \u001b[0;31m# Do not call functions when jit is used\u001b[0m\u001b[0;34m\u001b[0m\u001b[0;34m\u001b[0m\u001b[0m\n\u001b[1;32m   1104\u001b[0m         \u001b[0mfull_backward_hooks\u001b[0m\u001b[0;34m,\u001b[0m \u001b[0mnon_full_backward_hooks\u001b[0m \u001b[0;34m=\u001b[0m \u001b[0;34m[\u001b[0m\u001b[0;34m]\u001b[0m\u001b[0;34m,\u001b[0m \u001b[0;34m[\u001b[0m\u001b[0;34m]\u001b[0m\u001b[0;34m\u001b[0m\u001b[0;34m\u001b[0m\u001b[0m\n",
      "\u001b[0;32m/state/partition1/job-14061320/ipykernel_1561528/1620533583.py\u001b[0m in \u001b[0;36mforward\u001b[0;34m(self, x)\u001b[0m\n\u001b[1;32m     47\u001b[0m         \u001b[0my\u001b[0m\u001b[0;34m[\u001b[0m\u001b[0;34m'retina'\u001b[0m\u001b[0;34m]\u001b[0m \u001b[0;34m=\u001b[0m \u001b[0mself\u001b[0m\u001b[0;34m.\u001b[0m\u001b[0mretinalDN\u001b[0m\u001b[0;34m(\u001b[0m \u001b[0my\u001b[0m\u001b[0;34m[\u001b[0m\u001b[0;34m'pixel'\u001b[0m\u001b[0;34m]\u001b[0m \u001b[0;34m)\u001b[0m\u001b[0;34m\u001b[0m\u001b[0;34m\u001b[0m\u001b[0m\n\u001b[1;32m     48\u001b[0m \u001b[0;34m\u001b[0m\u001b[0m\n\u001b[0;32m---> 49\u001b[0;31m         \u001b[0my\u001b[0m\u001b[0;34m[\u001b[0m\u001b[0;34m'v1'\u001b[0m\u001b[0;34m]\u001b[0m \u001b[0;34m=\u001b[0m \u001b[0mself\u001b[0m\u001b[0;34m.\u001b[0m\u001b[0mcompute_pyr\u001b[0m\u001b[0;34m(\u001b[0m \u001b[0my\u001b[0m\u001b[0;34m[\u001b[0m\u001b[0;34m'retina'\u001b[0m\u001b[0;34m]\u001b[0m \u001b[0;34m)\u001b[0m\u001b[0;34m\u001b[0m\u001b[0;34m\u001b[0m\u001b[0m\n\u001b[0m\u001b[1;32m     50\u001b[0m \u001b[0;34m\u001b[0m\u001b[0m\n\u001b[1;32m     51\u001b[0m         \u001b[0;32mreturn\u001b[0m \u001b[0my\u001b[0m\u001b[0;34m\u001b[0m\u001b[0;34m\u001b[0m\u001b[0m\n",
      "\u001b[0;32m/state/partition1/job-14061320/ipykernel_1561528/1620533583.py\u001b[0m in \u001b[0;36mcompute_pyr\u001b[0;34m(self, x)\u001b[0m\n\u001b[1;32m     22\u001b[0m     \u001b[0;32mdef\u001b[0m \u001b[0mcompute_pyr\u001b[0m\u001b[0;34m(\u001b[0m\u001b[0mself\u001b[0m\u001b[0;34m,\u001b[0m \u001b[0mx\u001b[0m\u001b[0;34m)\u001b[0m\u001b[0;34m:\u001b[0m\u001b[0;34m\u001b[0m\u001b[0;34m\u001b[0m\u001b[0m\n\u001b[1;32m     23\u001b[0m \u001b[0;34m\u001b[0m\u001b[0m\n\u001b[0;32m---> 24\u001b[0;31m         \u001b[0mx\u001b[0m \u001b[0;34m=\u001b[0m \u001b[0mself\u001b[0m\u001b[0;34m.\u001b[0m\u001b[0mpyr\u001b[0m\u001b[0;34m(\u001b[0m \u001b[0mx\u001b[0m\u001b[0;34m.\u001b[0m\u001b[0munsqueeze\u001b[0m\u001b[0;34m(\u001b[0m\u001b[0;36m1\u001b[0m\u001b[0;34m)\u001b[0m \u001b[0;34m)\u001b[0m\u001b[0;34m\u001b[0m\u001b[0;34m\u001b[0m\u001b[0m\n\u001b[0m\u001b[1;32m     25\u001b[0m \u001b[0;34m\u001b[0m\u001b[0m\n\u001b[1;32m     26\u001b[0m         \u001b[0;32mif\u001b[0m \u001b[0mself\u001b[0m\u001b[0;34m.\u001b[0m\u001b[0mremove\u001b[0m\u001b[0;34m:\u001b[0m\u001b[0;34m\u001b[0m\u001b[0;34m\u001b[0m\u001b[0m\n",
      "\u001b[0;32m/scratch/xn314/anaconda3/envs/env_manifold/lib/python3.9/site-packages/torch/nn/modules/module.py\u001b[0m in \u001b[0;36m_call_impl\u001b[0;34m(self, *input, **kwargs)\u001b[0m\n\u001b[1;32m   1100\u001b[0m         if not (self._backward_hooks or self._forward_hooks or self._forward_pre_hooks or _global_backward_hooks\n\u001b[1;32m   1101\u001b[0m                 or _global_forward_hooks or _global_forward_pre_hooks):\n\u001b[0;32m-> 1102\u001b[0;31m             \u001b[0;32mreturn\u001b[0m \u001b[0mforward_call\u001b[0m\u001b[0;34m(\u001b[0m\u001b[0;34m*\u001b[0m\u001b[0minput\u001b[0m\u001b[0;34m,\u001b[0m \u001b[0;34m**\u001b[0m\u001b[0mkwargs\u001b[0m\u001b[0;34m)\u001b[0m\u001b[0;34m\u001b[0m\u001b[0;34m\u001b[0m\u001b[0m\n\u001b[0m\u001b[1;32m   1103\u001b[0m         \u001b[0;31m# Do not call functions when jit is used\u001b[0m\u001b[0;34m\u001b[0m\u001b[0;34m\u001b[0m\u001b[0m\n\u001b[1;32m   1104\u001b[0m         \u001b[0mfull_backward_hooks\u001b[0m\u001b[0;34m,\u001b[0m \u001b[0mnon_full_backward_hooks\u001b[0m \u001b[0;34m=\u001b[0m \u001b[0;34m[\u001b[0m\u001b[0;34m]\u001b[0m\u001b[0;34m,\u001b[0m \u001b[0;34m[\u001b[0m\u001b[0;34m]\u001b[0m\u001b[0;34m\u001b[0m\u001b[0;34m\u001b[0m\u001b[0m\n",
      "\u001b[0;32m/scratch/xn314/Perceptual-Straightening-models/models/steerable/steerable_Julie.py\u001b[0m in \u001b[0;36mforward\u001b[0;34m(self, x)\u001b[0m\n\u001b[1;32m     51\u001b[0m         \u001b[0mxim\u001b[0m \u001b[0;34m=\u001b[0m \u001b[0mfftfull\u001b[0m\u001b[0;34m.\u001b[0m\u001b[0mimag\u001b[0m\u001b[0;34m\u001b[0m\u001b[0;34m\u001b[0m\u001b[0m\n\u001b[1;32m     52\u001b[0m         \u001b[0mx\u001b[0m \u001b[0;34m=\u001b[0m \u001b[0mtorch\u001b[0m\u001b[0;34m.\u001b[0m\u001b[0mcat\u001b[0m\u001b[0;34m(\u001b[0m\u001b[0;34m(\u001b[0m\u001b[0mxreal\u001b[0m\u001b[0;34m.\u001b[0m\u001b[0munsqueeze\u001b[0m\u001b[0;34m(\u001b[0m\u001b[0;36m1\u001b[0m\u001b[0;34m)\u001b[0m\u001b[0;34m,\u001b[0m \u001b[0mxim\u001b[0m\u001b[0;34m.\u001b[0m\u001b[0munsqueeze\u001b[0m\u001b[0;34m(\u001b[0m\u001b[0;36m1\u001b[0m\u001b[0;34m)\u001b[0m\u001b[0;34m)\u001b[0m\u001b[0;34m,\u001b[0m \u001b[0;36m1\u001b[0m \u001b[0;34m)\u001b[0m\u001b[0;34m.\u001b[0m\u001b[0munsqueeze\u001b[0m\u001b[0;34m(\u001b[0m \u001b[0;34m-\u001b[0m\u001b[0;36m3\u001b[0m \u001b[0;34m)\u001b[0m \u001b[0;31m# (1, 2, 1, 1, 256, 129)\u001b[0m\u001b[0;34m\u001b[0m\u001b[0;34m\u001b[0m\u001b[0m\n\u001b[0;32m---> 53\u001b[0;31m         \u001b[0mx\u001b[0m \u001b[0;34m=\u001b[0m \u001b[0mtorch\u001b[0m\u001b[0;34m.\u001b[0m\u001b[0mindex_select\u001b[0m\u001b[0;34m(\u001b[0m \u001b[0mx\u001b[0m\u001b[0;34m,\u001b[0m \u001b[0;34m-\u001b[0m\u001b[0;36m2\u001b[0m\u001b[0;34m,\u001b[0m \u001b[0mself\u001b[0m\u001b[0;34m.\u001b[0m\u001b[0mindF\u001b[0m\u001b[0;34m[\u001b[0m\u001b[0;36m0\u001b[0m\u001b[0;34m]\u001b[0m \u001b[0;34m)\u001b[0m\u001b[0;34m\u001b[0m\u001b[0;34m\u001b[0m\u001b[0m\n\u001b[0m\u001b[1;32m     54\u001b[0m \u001b[0;34m\u001b[0m\u001b[0m\n\u001b[1;32m     55\u001b[0m         \u001b[0mx\u001b[0m   \u001b[0;34m=\u001b[0m \u001b[0mself\u001b[0m\u001b[0;34m.\u001b[0m\u001b[0mhl0\u001b[0m \u001b[0;34m*\u001b[0m \u001b[0mx\u001b[0m \u001b[0;31m# (1, 1, 1, 2, 256, 129)*(1, 2, 1, 1, 256, 129) -> (1, 2, 1, 2, 256, 129)\u001b[0m\u001b[0;34m\u001b[0m\u001b[0;34m\u001b[0m\u001b[0m\n",
      "\u001b[0;31mRuntimeError\u001b[0m: Expected all tensors to be on the same device, but found at least two devices, cpu and cuda:0! (when checking argument for argument index in method wrapper__index_select)"
     ]
    }
   ],
   "source": [
    "for s, sequenceType in enumerate(sequenceTypes):\n",
    "    \n",
    "    curvature = {}\n",
    "    for m, model in enumerate(models):\n",
    "        curvature[m] = {}\n",
    "        for modelStage in modelStages:\n",
    "            curvature[m][modelStage] = {} \n",
    "\n",
    "        if sequenceType == 'contrast':\n",
    "            imgNames = [ 'water-contrast0.5', 'prairieTer-contrastLog0.1', 'boats_contrastCocktail', 'bees_contrastCocktail', 'walking_contrastCocktail', 'egomotion_contrastCocktail', 'smile-contrastLog0.1', 'walking-contrast0.5', 'bees-contrast0.5', 'walking-contrastLog0.1' ]\n",
    "        else:\n",
    "            imgNames = [ 'water', 'prairieTer', 'boats', 'ice3', 'dogville', 'egomotion', 'walking', 'smile', 'bees', 'leaves-wind', 'carnegie-dam', 'chironomus' ]\n",
    "\n",
    "        for i, imgName in enumerate(imgNames):\n",
    "\n",
    "            if sequenceType == 'groundtruth':\n",
    "                x = utils.makeGroundtruth(imgName) \n",
    "            elif sequenceType == 'pixelfade':\n",
    "                x = utils.makePixelfade(imgName) \n",
    "            elif sequenceType == 'contrast':\n",
    "                x = utils.makeContrastfade(imgName) \n",
    "\n",
    "            if device == 'cuda':\n",
    "                x = x.cuda()\n",
    "            x = Variable( x ) \n",
    "            y = model( x )\n",
    "\n",
    "            for modelStage in modelStages:\n",
    "                dY, cY = utils.computeDistCurv( y[modelStage] )\n",
    "                curvature[m][modelStage][imgName] = cY.data.mean()\n",
    "                \n",
    "        print('Model %d: '%(m+1))\n",
    "        for o, modelStage in enumerate(modelStages):\t\n",
    "            avPixelCurvature = np.array(list(curvature[m]['pixel'].values())).mean()\n",
    "            avModelCurvature = np.array(list(curvature[m][modelStage].values())).mean()\n",
    "            deltaCurvature = avModelCurvature - avPixelCurvature\n",
    "            \n",
    "            print('sequence type: %s \\tmodel stage: %s \\tdelta curvature %.2f' % (sequenceType, modelStage, deltaCurvature))\n",
    "\n",
    "# \tnp.save( savedir + 'modelCurvature_' + sequenceType + '.npy', curvature )"
   ]
  },
  {
   "cell_type": "code",
   "execution_count": null,
   "id": "b3f99115",
   "metadata": {},
   "outputs": [],
   "source": [
    "base = np.array(list(curvature[0]['pixel'].values())).mean()\n",
    "b = [0,\n",
    "    np.array(list(curvature[0]['retina'].values())).mean() - base]\n",
    "for i in range(len(models)):\n",
    "    b.append(np.array(list(curvature[i]['v1'].values())).mean() - base)\n",
    "c = [0, \n",
    "    np.array(list(curvature[0]['retina'].values())).std()]\n",
    "for i in range(len(models)):\n",
    "    c.append(np.array(list(curvature[i]['v1'].values())).std())\n",
    "a = np.arange(len(b))\n",
    "\n",
    "c = np.array(c) * 0.1\n",
    "\n",
    "import matplotlib.pyplot as plt\n",
    "plt.scatter(a, b, s=100, marker='o')\n",
    "plt.errorbar(a, b, yerr=c, fmt=\"o\")\n",
    "plt.xticks(a, ['Pixel', 'LGN', 'V1-B^2', 'V1-B', 'V1-LBH^2', 'V1-LBH'], fontsize=10)"
   ]
  },
  {
   "cell_type": "code",
   "execution_count": 10,
   "id": "a01ef83e",
   "metadata": {},
   "outputs": [
    {
     "ename": "AttributeError",
     "evalue": "'Straightening_Hierarchy' object has no attribute 'device'",
     "output_type": "error",
     "traceback": [
      "\u001b[0;31m---------------------------------------------------------------------------\u001b[0m",
      "\u001b[0;31mAttributeError\u001b[0m                            Traceback (most recent call last)",
      "\u001b[0;32m/state/partition1/job-14061320/ipykernel_1561528/1033669831.py\u001b[0m in \u001b[0;36m<module>\u001b[0;34m\u001b[0m\n\u001b[0;32m----> 1\u001b[0;31m \u001b[0mprint\u001b[0m\u001b[0;34m(\u001b[0m\u001b[0mx\u001b[0m\u001b[0;34m.\u001b[0m\u001b[0mdevice\u001b[0m\u001b[0;34m,\u001b[0m \u001b[0mmodel\u001b[0m\u001b[0;34m.\u001b[0m\u001b[0mdevice\u001b[0m\u001b[0;34m)\u001b[0m\u001b[0;34m\u001b[0m\u001b[0;34m\u001b[0m\u001b[0m\n\u001b[0m",
      "\u001b[0;32m/scratch/xn314/anaconda3/envs/env_manifold/lib/python3.9/site-packages/torch/nn/modules/module.py\u001b[0m in \u001b[0;36m__getattr__\u001b[0;34m(self, name)\u001b[0m\n\u001b[1;32m   1175\u001b[0m             \u001b[0;32mif\u001b[0m \u001b[0mname\u001b[0m \u001b[0;32min\u001b[0m \u001b[0mmodules\u001b[0m\u001b[0;34m:\u001b[0m\u001b[0;34m\u001b[0m\u001b[0;34m\u001b[0m\u001b[0m\n\u001b[1;32m   1176\u001b[0m                 \u001b[0;32mreturn\u001b[0m \u001b[0mmodules\u001b[0m\u001b[0;34m[\u001b[0m\u001b[0mname\u001b[0m\u001b[0;34m]\u001b[0m\u001b[0;34m\u001b[0m\u001b[0;34m\u001b[0m\u001b[0m\n\u001b[0;32m-> 1177\u001b[0;31m         raise AttributeError(\"'{}' object has no attribute '{}'\".format(\n\u001b[0m\u001b[1;32m   1178\u001b[0m             type(self).__name__, name))\n\u001b[1;32m   1179\u001b[0m \u001b[0;34m\u001b[0m\u001b[0m\n",
      "\u001b[0;31mAttributeError\u001b[0m: 'Straightening_Hierarchy' object has no attribute 'device'"
     ]
    }
   ],
   "source": [
    "print(x.device, model.device)"
   ]
  },
  {
   "cell_type": "code",
   "execution_count": null,
   "id": "66900bd9",
   "metadata": {},
   "outputs": [],
   "source": []
  }
 ],
 "metadata": {
  "kernelspec": {
   "display_name": "manifold",
   "language": "python",
   "name": "manifold"
  },
  "language_info": {
   "codemirror_mode": {
    "name": "ipython",
    "version": 3
   },
   "file_extension": ".py",
   "mimetype": "text/x-python",
   "name": "python",
   "nbconvert_exporter": "python",
   "pygments_lexer": "ipython3",
   "version": "3.9.7"
  }
 },
 "nbformat": 4,
 "nbformat_minor": 5
}
