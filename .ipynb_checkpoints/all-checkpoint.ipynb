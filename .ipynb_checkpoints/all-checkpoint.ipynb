{
 "cells": [
  {
   "cell_type": "code",
   "execution_count": 1,
   "id": "c5ab0382",
   "metadata": {},
   "outputs": [],
   "source": [
    "import os\n",
    "import torch\n",
    "import params\n",
    "# N = 6 # number of scales \n",
    "\n",
    "# K = 8 # number of orientations \n",
    "\n",
    "# imgSize = 256 # image size: retinal model require 256 \n",
    "\n",
    "# nsmpl   = 11 \n",
    "\n",
    "# model_name = 'retina-complexV1'\n",
    "from PIL import Image\n",
    "import math\n",
    "import numpy as np \n",
    "import utilities as utils \n",
    "\n",
    "from models.retinalDN.retinalDN import RetinalDN\n",
    "from models.steerable.steerable import SteerablePyramid\n",
    "\n",
    "import models.steerable.steerableUtils as steer_utils\n",
    "\n",
    "import matplotlib.pyplot as plt\n",
    "\n",
    "import scipy.io as sio\n",
    "import torch.nn as nn\n",
    "import torch.nn.functional as F"
   ]
  },
  {
   "cell_type": "code",
   "execution_count": 4,
   "id": "85c36ae4",
   "metadata": {},
   "outputs": [],
   "source": [
    "imgNames = [ 'water', 'prairieTer', 'boats', 'ice3', 'dogville', 'egomotion', 'walking', 'smile', \n",
    "            'bees', 'leaves-wind', 'carnegie-dam', 'chironomus' ]\n",
    "loaddir = 'models/retinalDN/'\n",
    "filters_LGN = sio.loadmat(loaddir + 'filters.mat')\n",
    "params_LGN  = sio.loadmat(loaddir +  'params.mat')\n",
    "filters_LGN = torch.Tensor( filters_LGN['filters'] ) # (3, 31, 31)\n",
    "params_LGN  = torch.Tensor(  params_LGN['params' ] ).squeeze() # (2, )\n",
    "\n",
    "kerSize = filters_LGN.size(-1)\n",
    "pad = (kerSize-1)//2\n",
    "pad = (pad, pad, pad, pad)\n",
    "linConv = nn.Conv2d( 1, 1, kerSize, bias=False )\n",
    "lumConv = nn.Conv2d( 1, 1, kerSize, bias=False )\n",
    "conConv = nn.Conv2d( 1, 1, kerSize, bias=False ) \n",
    "linConv.weight.data.copy_( filters_LGN[0] ) \n",
    "lumConv.weight.data.copy_( filters_LGN[1] ) \n",
    "conConv.weight.data.copy_( filters_LGN[2] )\n",
    "softplus = nn.Softplus()\n",
    "\n",
    "curv_LGN = {}\n",
    "# curv_LGN['pixel'] = {}\n",
    "\n",
    "for i, imgName in enumerate(imgNames):\n",
    "    output = {}\n",
    "    x = utils.makeGroundtruth(imgName)\n",
    "    output['000'] = x\n",
    "    \n",
    "    x = x.unsqueeze(1) # (11, 1, 256, 256)\n",
    "    xpad = F.pad( x, pad, mode='replicate' )\n",
    "    xN = x / (1 + params_LGN[0]*lumConv(xpad))\n",
    "    output['010'] = xN\n",
    "    \n",
    "    c1 = F.pad(xN**2, pad, mode='replicate')\n",
    "    c1 = (conConv(c1) + 1e-6).sqrt()\n",
    "    xNn = xN / (1 + params_LGN[1]*c1)\n",
    "    output['011'] = xNn\n",
    "    \n",
    "    c2 = (conConv(xpad**2) + 1e-6).sqrt()\n",
    "    xn = x / (1 + params_LGN[1]*c2)\n",
    "    output['001'] = xn\n",
    "    \n",
    "    xF = linConv( xpad )\n",
    "    output['100'] = xF\n",
    "    xFN = xF / (1 + params_LGN[0]*lumConv(xpad))\n",
    "    output['110'] = xFN\n",
    "    c = F.pad(xFN**2, pad, mode='replicate')\n",
    "    c = (conConv(c) + 1e-6).sqrt()\n",
    "    xFNn = xFN / (1 + params_LGN[1]*c)\n",
    "    output['111'] = xFNn\n",
    "\n",
    "    c3 = F.pad(xF**2, pad, mode='replicate')\n",
    "    c3 = (conConv(c3) + 1e-6).sqrt()\n",
    "    xFn = xF / (1 + params_LGN[1]*c3)\n",
    "    output['101'] = xFn\n",
    "    \n",
    "    for key in list(output):\n",
    "        dY, cY = utils.computeDistCurv( softplus(output[key]) )\n",
    "        if key not in list(curv_LGN):\n",
    "            curv_LGN[key] = {}\n",
    "        curv_LGN[key][imgName] = cY.data.mean()\n",
    "    \n",
    "#     dY, cY = utils.computeDistCurv( output['000'])\n",
    "#     curv_LGN['pixel'][imgName] = cY.data.mean()\n",
    "        \n",
    "for key in list(curv_LGN):\n",
    "    curv_LGN[key]['mean'] = np.array(list(curv_LGN[key].values())).mean()"
   ]
  },
  {
   "cell_type": "code",
   "execution_count": 5,
   "id": "57dd63ba",
   "metadata": {},
   "outputs": [
    {
     "data": {
      "text/plain": [
       "([<matplotlib.axis.XTick at 0x14606bf45820>,\n",
       "  <matplotlib.axis.XTick at 0x14606bf457f0>,\n",
       "  <matplotlib.axis.XTick at 0x14606bfb7a90>,\n",
       "  <matplotlib.axis.XTick at 0x14606bf0c4c0>,\n",
       "  <matplotlib.axis.XTick at 0x14606bf0cc10>,\n",
       "  <matplotlib.axis.XTick at 0x14606bf133a0>,\n",
       "  <matplotlib.axis.XTick at 0x14606bf13af0>,\n",
       "  <matplotlib.axis.XTick at 0x14606bf137c0>],\n",
       " [Text(0, 0, 'pixel'),\n",
       "  Text(1, 0, 'N1'),\n",
       "  Text(2, 0, 'N1N2'),\n",
       "  Text(3, 0, 'N2'),\n",
       "  Text(4, 0, 'F'),\n",
       "  Text(5, 0, 'FN1'),\n",
       "  Text(6, 0, 'FN1N2'),\n",
       "  Text(7, 0, 'FN2')])"
      ]
     },
     "execution_count": 5,
     "metadata": {},
     "output_type": "execute_result"
    },
    {
     "data": {
      "image/png": "[encoded data removed]",
      "text/plain": [
       "<Figure size 432x288 with 1 Axes>"
      ]
     },
     "metadata": {
      "needs_background": "light"
     },
     "output_type": "display_data"
    }
   ],
   "source": [
    "# compare and plot the curvature\n",
    "a = np.empty(len(list(curv_LGN)))\n",
    "for i, key in enumerate(list(curv_LGN)):\n",
    "    a[i] = curv_LGN[key]['mean']\n",
    "    \n",
    "plt.plot(a, '-o')\n",
    "LGN_label = ['pixel', 'N1', 'N1N2', 'N2', 'F', 'FN1', 'FN1N2', 'FN2']\n",
    "plt.xticks(np.arange(len(list(curv_LGN))), list(LGN_label))"
   ]
  },
  {
   "cell_type": "code",
   "execution_count": 9,
   "id": "6929bfab",
   "metadata": {},
   "outputs": [
    {
     "name": "stdout",
     "output_type": "stream",
     "text": [
      "tensor([1.7144, 5.8337])\n",
      "tensor(0.8874) tensor(-0.0094)\n",
      "tensor(0.0009) tensor(0.0002)\n",
      "tensor(0.0599) tensor(1.0411e-38)\n"
     ]
    },
    {
     "data": {
      "image/png": "[encoded data removed]",
      "text/plain": [
       "<Figure size 432x288 with 3 Axes>"
      ]
     },
     "metadata": {
      "needs_background": "light"
     },
     "output_type": "display_data"
    }
   ],
   "source": [
    "loaddir = 'models/retinalDN/'\n",
    "filters = sio.loadmat(loaddir + 'filters.mat')\n",
    "params  = sio.loadmat(loaddir +  'params.mat')\n",
    "\n",
    "filters = torch.Tensor( filters['filters'] ) # (3, 31, 31)\n",
    "\n",
    "params  = torch.Tensor(  params['params' ] ).squeeze() # (2, )\n",
    "print(params)\n",
    "\n",
    "plt.figure()\n",
    "for i in range(3):\n",
    "    plt.subplot(1,3,i+1)\n",
    "    if i == 0:\n",
    "        plt.imshow(filters[i], vmax=0.01)\n",
    "    else:\n",
    "        plt.imshow(filters[i])\n",
    "    print(torch.max(filters[i]), torch.min(filters[i]))"
   ]
  },
  {
   "cell_type": "code",
   "execution_count": 14,
   "id": "157d0ca1",
   "metadata": {},
   "outputs": [
    {
     "name": "stdout",
     "output_type": "stream",
     "text": [
      "tensor(3.8917) tensor(0.0122)\n",
      "tensor(3792814.) tensor(0.9675)\n"
     ]
    },
    {
     "data": {
      "image/png": "[encoded data removed]",
      "text/plain": [
       "<Figure size 648x1440 with 3 Axes>"
      ]
     },
     "metadata": {
      "needs_background": "light"
     },
     "output_type": "display_data"
    }
   ],
   "source": [
    "# compare the frequency components of the LGN filter and the images\n",
    "def norm(c):\n",
    "    # norm of a complex tensor\n",
    "    return torch.sqrt(torch.real(c * c.conj()))\n",
    "\n",
    "def crop(img, size):\n",
    "    old_size = img.size()[0]\n",
    "    a = int((old_size - size) / 2.0)\n",
    "    return img[a:a+size, a:a+size]\n",
    "\n",
    "def imshow(img, rank=10):\n",
    "    vmax = torch.sort(torch.flatten(img))[0][-rank]\n",
    "    plt.imshow(img, vmax=vmax)\n",
    "\n",
    "plt.figure(figsize=(9,20))\n",
    "freq_filter = torch.fft.fft2(filters[0]) # (31, 31)\n",
    "filter_norm = norm(freq_filter)\n",
    "print(torch.max(filter_norm), torch.min(filter_norm))\n",
    "plt.subplot(131)\n",
    "plt.imshow(torch.fft.fftshift(filter_norm))\n",
    "\n",
    "freq_img = torch.fft.fft2(x[0]).squeeze(0)\n",
    "img_norm = norm(freq_img)\n",
    "print(torch.max(img_norm), torch.min(img_norm))\n",
    "plt.subplot(132)\n",
    "imshow(crop(torch.fft.fftshift(img_norm), 31))\n",
    "\n",
    "plt.subplot(133)\n",
    "imshow(crop(torch.fft.fftshift(img_norm), 31) * torch.fft.fftshift(filter_norm))"
   ]
  },
  {
   "cell_type": "code",
   "execution_count": 16,
   "id": "907211b6",
   "metadata": {},
   "outputs": [
    {
     "data": {
      "text/plain": [
       "<matplotlib.image.AxesImage at 0x14606ba667c0>"
      ]
     },
     "execution_count": 16,
     "metadata": {},
     "output_type": "execute_result"
    },
    {
     "data": {
      "image/png": "[encoded data removed]",
      "text/plain": [
       "<Figure size 432x288 with 1 Axes>"
      ]
     },
     "metadata": {
      "needs_background": "light"
     },
     "output_type": "display_data"
    }
   ],
   "source": [
    "# expand or shrink the 2D frequency plot\n",
    "\n",
    "plt.imshow(filter_norm)\n",
    "\n",
    "def reform_corner(freq_filter, move=0): # only apply to filters of odd sizes, square\n",
    "    s = freq_filter.size(0)\n",
    "    new_freq_filter = torch.empty((s, s))\n",
    "    value = list(torch.diagonal(s)) + list(s[0][1:])\n",
    "    value = torch.sort(torch.tensor(value))"
   ]
  },
  {
   "cell_type": "code",
   "execution_count": 19,
   "id": "b740132a",
   "metadata": {},
   "outputs": [
    {
     "name": "stdout",
     "output_type": "stream",
     "text": [
      "torch.Size([31, 31])\n"
     ]
    }
   ],
   "source": [
    "filter_back = torch.fft.irfft2(freq_filter, s=(freq_filter.size(0), freq_filter.size(0)))"
   ]
  },
  {
   "cell_type": "code",
   "execution_count": null,
   "id": "d74188c1",
   "metadata": {},
   "outputs": [],
   "source": [
    "# apply the new filter to see how curvature changes"
   ]
  }
 ],
 "metadata": {
  "kernelspec": {
   "display_name": "manifold",
   "language": "python",
   "name": "manifold"
  },
  "language_info": {
   "codemirror_mode": {
    "name": "ipython",
    "version": 3
   },
   "file_extension": ".py",
   "mimetype": "text/x-python",
   "name": "python",
   "nbconvert_exporter": "python",
   "pygments_lexer": "ipython3",
   "version": "3.9.7"
  }
 },
 "nbformat": 4,
 "nbformat_minor": 5
}
