{
 "cells": [
  {
   "cell_type": "code",
   "execution_count": 1,
   "id": "e3c47132",
   "metadata": {},
   "outputs": [],
   "source": [
    "import torch\n",
    "import torch.nn as nn\n",
    "import scipy.io as sio\n",
    "import torch.nn.functional as F"
   ]
  },
  {
   "cell_type": "code",
   "execution_count": null,
   "id": "e00b0be8",
   "metadata": {},
   "outputs": [],
   "source": [
    "# class RetinalDN(nn.Module):\n",
    "\n",
    "#     def __init__(self):\n",
    "#         super(RetinalDN, self).__init__()\n",
    "\n",
    "#         loaddir = 'models/retinalDN/'\n",
    "#         filters = sio.loadmat(loaddir + 'filters.mat')\n",
    "#         params  = sio.loadmat(loaddir +  'params.mat')\n",
    "\n",
    "#         filters = torch.Tensor( filters['filters'] ) \n",
    "#         params  = torch.Tensor(  params['params' ] ).squeeze()\n",
    "\n",
    "#         kerSize = filters.size(-1)\n",
    "\n",
    "#         self.pad = (kerSize-1)//2\n",
    "#         self.pad = ( self.pad, self.pad, self.pad, self.pad )\n",
    "\n",
    "#         self.linConv = nn.Conv2d( 1, 1, kerSize, bias=False )\n",
    "#         self.lumConv = nn.Conv2d( 1, 1, kerSize, bias=False )\n",
    "#         self.conConv = nn.Conv2d( 1, 1, kerSize, bias=False )\n",
    "\n",
    "#         self.linConv.weight.data.copy_( filters[0] ) \n",
    "#         self.lumConv.weight.data.copy_( filters[1] ) \n",
    "#         self.conConv.weight.data.copy_( filters[2] ) \n",
    "\n",
    "#         self.softplus = nn.Softplus() \n",
    "\n",
    "#         self.params = params\n",
    "\n",
    "\n",
    "#     def forward(self, x):\n",
    "\n",
    "#         x = x.unsqueeze( 1 ) \n",
    "\n",
    "#         x = F.pad( x, self.pad, mode='replicate' )\n",
    "#         y = self.linConv( x ) \n",
    "#         l = self.lumConv( x ) \n",
    "\n",
    "#         y = y / ( 1 + self.params[0]*l ) # normalized by the luminance of its neighbors\n",
    "\n",
    "#         c = F.pad( y**2, self.pad, mode='replicate' )\n",
    "#         c = ( self.conConv(c) + 1e-6 ).sqrt() \n",
    "\n",
    "#         y = y / ( 1 + self.params[1]*c ) \n",
    "\n",
    "#         y = self.softplus( y ) # a smooth approximation to the ReLU function\n",
    "\n",
    "#         y = y.select( 1, 0 )\n",
    "\n",
    "#         return y"
   ]
  },
  {
   "cell_type": "code",
   "execution_count": 17,
   "id": "792f775b",
   "metadata": {},
   "outputs": [
    {
     "name": "stdout",
     "output_type": "stream",
     "text": [
      "tensor([1.7144, 5.8337])\n"
     ]
    }
   ],
   "source": [
    "loaddir = 'models/retinalDN/'\n",
    "filters = sio.loadmat(loaddir + 'filters.mat')\n",
    "params  = sio.loadmat(loaddir +  'params.mat')\n",
    "\n",
    "filters = torch.Tensor( filters['filters'] ) # (3, 31, 31)\n",
    "\n",
    "params  = torch.Tensor(  params['params' ] ).squeeze() # (2, )\n",
    "print(params)"
   ]
  },
  {
   "cell_type": "code",
   "execution_count": 21,
   "id": "65f93a01",
   "metadata": {},
   "outputs": [
    {
     "name": "stdout",
     "output_type": "stream",
     "text": [
      "tensor(0.8874) tensor(-0.0094)\n"
     ]
    },
    {
     "data": {
      "image/png": "[encoded data removed]",
      "text/plain": [
       "<Figure size 432x288 with 1 Axes>"
      ]
     },
     "metadata": {
      "needs_background": "light"
     },
     "output_type": "display_data"
    }
   ],
   "source": [
    "import matplotlib.pyplot as plt\n",
    "plt.imshow(filters[0], vmax=0.01)\n",
    "print(torch.max(filters[0]), torch.min(filters[0]))"
   ]
  },
  {
   "cell_type": "code",
   "execution_count": 16,
   "id": "7c9dde6c",
   "metadata": {},
   "outputs": [
    {
     "name": "stdout",
     "output_type": "stream",
     "text": [
      "tensor(0.0009) tensor(0.0002)\n"
     ]
    },
    {
     "data": {
      "image/png": "[encoded data removed]",
      "text/plain": [
       "<Figure size 432x288 with 1 Axes>"
      ]
     },
     "metadata": {
      "needs_background": "light"
     },
     "output_type": "display_data"
    }
   ],
   "source": [
    "plt.imshow(filters[1])\n",
    "print(torch.max(filters[1]), torch.min(filters[1]))"
   ]
  },
  {
   "cell_type": "code",
   "execution_count": 18,
   "id": "82d10fd5",
   "metadata": {},
   "outputs": [
    {
     "name": "stdout",
     "output_type": "stream",
     "text": [
      "tensor(0.0599) tensor(1.0411e-38)\n"
     ]
    },
    {
     "data": {
      "image/png": "[encoded data removed]",
      "text/plain": [
       "<Figure size 432x288 with 1 Axes>"
      ]
     },
     "metadata": {
      "needs_background": "light"
     },
     "output_type": "display_data"
    }
   ],
   "source": [
    "plt.imshow(filters[2])\n",
    "print(torch.max(filters[2]), torch.min(filters[2]))"
   ]
  },
  {
   "cell_type": "code",
   "execution_count": null,
   "id": "eeb197f6",
   "metadata": {},
   "outputs": [],
   "source": []
  }
 ],
 "metadata": {
  "kernelspec": {
   "display_name": "manifold",
   "language": "python",
   "name": "manifold"
  },
  "language_info": {
   "codemirror_mode": {
    "name": "ipython",
    "version": 3
   },
   "file_extension": ".py",
   "mimetype": "text/x-python",
   "name": "python",
   "nbconvert_exporter": "python",
   "pygments_lexer": "ipython3",
   "version": "3.9.7"
  }
 },
 "nbformat": 4,
 "nbformat_minor": 5
}
